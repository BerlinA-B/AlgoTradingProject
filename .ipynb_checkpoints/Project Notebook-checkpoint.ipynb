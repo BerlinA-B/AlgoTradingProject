{
 "cells": [
  {
   "cell_type": "markdown",
   "id": "f2c7a1ed",
   "metadata": {},
   "source": [
    "Predicting Prices Using Random Forest\n",
    "a. Objective: Build a Random Forest model to predict prices based on historical data and\n",
    "technical indicators.\n",
    "b. Focus: Machine learning, feature engineering, and model evaluation."
   ]
  },
  {
   "cell_type": "code",
   "execution_count": null,
   "id": "5a02156c",
   "metadata": {},
   "outputs": [],
   "source": [
    "import pandas as pd\n",
    "from sklearn.ensemble import RandomForestRegressor\n",
    "from sklearn.model_selection import train_test_split\n",
    "from sklearn.preprocessing import StandardScaler\n",
    "from sklearn.metrics import mean_squared_error\n",
    "import numpy as np\n",
    "\n",
    "# Step 1: Load the dataset\n",
    "df = pd.read_csv(\"USDJPY_Candlestick_1_Hour_BID_01.01.2020-31.08.2024.csv\")\n",
    "df['Local time'] = pd.to_datetime(df['Local time'])\n",
    "\n",
    "# Step 2: Feature engineering\n",
    "df['hour'] = df['Local time'].dt.hour\n",
    "df['day_of_week'] = df['Local time'].dt.dayofweek\n",
    "df['moving_average_10'] = df['Close'].rolling(window=10).mean()\n",
    "df['rsi'] = compute_rsi(df['Close'])  # Assuming a function to compute RSI\n",
    "\n",
    "# Step 3: Prepare data\n",
    "df.dropna(inplace=True)\n",
    "X = df[['Open', 'High', 'Low', 'Volume', 'hour', 'day_of_week', 'moving_average_10', 'rsi']]\n",
    "y = df['Close'].shift(-1).dropna()\n",
    "\n",
    "# Align X and y\n",
    "X = X.iloc[:-1]\n",
    "\n",
    "# Step 4: Split data\n",
    "X_train, X_test, y_train, y_test = train_test_split(X, y, test_size=0.2, random_state=42)\n",
    "\n",
    "# Step 5: Scaling\n",
    "scaler = StandardScaler()\n",
    "X_train_scaled = scaler.fit_transform(X_train)\n",
    "X_test_scaled = scaler.transform(X_test)\n",
    "\n",
    "# Step 6: Model training\n",
    "rf = RandomForestRegressor(n_estimators=100, max_depth=10, random_state=42)\n",
    "rf.fit(X_train_scaled, y_train)\n",
    "\n",
    "# Step 7: Evaluation\n",
    "y_pred = rf.predict(X_test_scaled)\n",
    "mse = mean_squared_error(y_test, y_pred)\n",
    "print(f\"Mean Squared Error: {mse}\")\n"
   ]
  }
 ],
 "metadata": {
  "kernelspec": {
   "display_name": "Python 3 (ipykernel)",
   "language": "python",
   "name": "python3"
  },
  "language_info": {
   "codemirror_mode": {
    "name": "ipython",
    "version": 3
   },
   "file_extension": ".py",
   "mimetype": "text/x-python",
   "name": "python",
   "nbconvert_exporter": "python",
   "pygments_lexer": "ipython3",
   "version": "3.9.7"
  }
 },
 "nbformat": 4,
 "nbformat_minor": 5
}
